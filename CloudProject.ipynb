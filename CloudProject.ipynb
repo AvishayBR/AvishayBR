{
  "cells": [
    {
      "cell_type": "markdown",
      "metadata": {
        "id": "view-in-github",
        "colab_type": "text"
      },
      "source": [
        "<a href=\"https://colab.research.google.com/github/AvishayBR/AvishayBR/blob/main/CloudProject.ipynb\" target=\"_parent\"><img src=\"https://colab.research.google.com/assets/colab-badge.svg\" alt=\"Open In Colab\"/></a>"
      ]
    },
    {
      "cell_type": "markdown",
      "metadata": {
        "id": "j-QpoG1Ntkk9"
      },
      "source": []
    },
    {
      "cell_type": "code",
      "execution_count": null,
      "metadata": {
        "colab": {
          "base_uri": "https://localhost:8080/"
        },
        "id": "KqaslpNllvxt",
        "outputId": "1783101d-99fd-44e2-b7e8-f63adb77998c"
      },
      "outputs": [
        {
          "output_type": "stream",
          "name": "stdout",
          "text": [
            "Public URL: NgrokTunnel: \"https://02ac-34-80-137-251.ngrok-free.app\" -> \"http://localhost:8053\"\n",
            "Dash is running on http://0.0.0.0:8053/\n",
            "\n",
            " * Serving Flask app 'app'\n",
            " * Debug mode: off\n",
            "\u001b[31m\u001b[1mWARNING: This is a development server. Do not use it in a production deployment. Use a production WSGI server instead.\u001b[0m\n",
            " * Running on all addresses (0.0.0.0)\n",
            " * Running on http://127.0.0.1:8053\n",
            " * Running on http://172.28.0.12:8053\n",
            "\u001b[33mPress CTRL+C to quit\u001b[0m\n",
            "127.0.0.1 - - [12/Jul/2024 22:43:21] \"GET / HTTP/1.1\" 200 -\n",
            "127.0.0.1 - - [12/Jul/2024 22:43:22] \"GET /_dash-component-suites/dash/deps/polyfill@7.v2_17_1m1720817446.12.1.min.js HTTP/1.1\" 200 -\n",
            "127.0.0.1 - - [12/Jul/2024 22:43:22] \"GET /_dash-component-suites/dash/deps/react@16.v2_17_1m1720817446.14.0.min.js HTTP/1.1\" 200 -\n",
            "127.0.0.1 - - [12/Jul/2024 22:43:22] \"GET /_dash-component-suites/dash/deps/prop-types@15.v2_17_1m1720817446.8.1.min.js HTTP/1.1\" 200 -\n",
            "127.0.0.1 - - [12/Jul/2024 22:43:22] \"GET /_dash-component-suites/dash/html/dash_html_components.v2_0_18m1720817446.min.js HTTP/1.1\" 200 -\n",
            "127.0.0.1 - - [12/Jul/2024 22:43:22] \"GET /_dash-component-suites/dash/dcc/dash_core_components-shared.v2_14_1m1720817446.js HTTP/1.1\" 200 -\n",
            "127.0.0.1 - - [12/Jul/2024 22:43:22] \"GET /assets/styles.css?m=1720820597.3921444 HTTP/1.1\" 200 -\n",
            "127.0.0.1 - - [12/Jul/2024 22:43:22] \"GET /_dash-component-suites/dash/deps/react-dom@16.v2_17_1m1720817446.14.0.min.js HTTP/1.1\" 200 -\n",
            "127.0.0.1 - - [12/Jul/2024 22:43:22] \"GET /_dash-component-suites/dash/dash-renderer/build/dash_renderer.v2_17_1m1720817446.min.js HTTP/1.1\" 200 -\n",
            "127.0.0.1 - - [12/Jul/2024 22:43:22] \"GET /_dash-component-suites/dash/dcc/dash_core_components.v2_14_1m1720817446.js HTTP/1.1\" 200 -\n",
            "127.0.0.1 - - [12/Jul/2024 22:43:22] \"GET /_dash-component-suites/dash/dash_table/bundle.v5_2_11m1720817446.js HTTP/1.1\" 200 -\n",
            "127.0.0.1 - - [12/Jul/2024 22:43:22] \"GET /_dash-component-suites/dash_bootstrap_components/_components/dash_bootstrap_components.v1_6_0m1720817479.min.js HTTP/1.1\" 200 -\n",
            "127.0.0.1 - - [12/Jul/2024 22:43:24] \"GET /_dash-layout HTTP/1.1\" 200 -\n",
            "127.0.0.1 - - [12/Jul/2024 22:43:24] \"GET /_dash-dependencies HTTP/1.1\" 200 -\n",
            "127.0.0.1 - - [12/Jul/2024 22:43:24] \"GET /_favicon.ico?v=2.17.1 HTTP/1.1\" 200 -\n",
            "127.0.0.1 - - [12/Jul/2024 22:43:25] \"POST /_dash-update-component HTTP/1.1\" 200 -\n",
            "127.0.0.1 - - [12/Jul/2024 22:43:25] \"POST /_dash-update-component HTTP/1.1\" 200 -\n",
            "127.0.0.1 - - [12/Jul/2024 22:43:26] \"GET /_dash-component-suites/dash/dcc/async-upload.js HTTP/1.1\" 200 -\n",
            "127.0.0.1 - - [12/Jul/2024 22:43:26] \"POST /_dash-update-component HTTP/1.1\" 200 -\n",
            "127.0.0.1 - - [12/Jul/2024 22:43:27] \"POST /_dash-update-component HTTP/1.1\" 200 -\n",
            "127.0.0.1 - - [12/Jul/2024 22:43:31] \"POST /_dash-update-component HTTP/1.1\" 200 -\n",
            "127.0.0.1 - - [12/Jul/2024 22:43:33] \"POST /_dash-update-component HTTP/1.1\" 200 -\n",
            "127.0.0.1 - - [12/Jul/2024 22:43:33] \"GET /_dash-component-suites/dash/dcc/async-graph.js HTTP/1.1\" 200 -\n",
            "127.0.0.1 - - [12/Jul/2024 22:43:33] \"GET /_dash-component-suites/plotly/package_data/plotly.min.js HTTP/1.1\" 200 -\n",
            "['Industry 4.0 Project', 'Part Studio 1 Copy 1.stl', 'Part Studio 1.stl', 'Part Studio 2.stl', 'Part Studio 2 Copy 1.stl', None, 'Bridge - StudentA1+A2+A3..stl', 'Bridge - StudentA1+A2+A3.stl', 'Bridge', 'Update Bridge 5.12.22', '2_StudentA1+A2+A3.stl', 'Bridge 1- StudentA1+A2+A3.stl', 'Bridge Challenge 2.0 - Rabea+Aibeck+Shiraz (Look for the  notes in the STL file)', 'Bridge V2', 'Bridge - 2 - StudentA1+A2+A3.stl', 'Bridge - 1 - StudentA1+A2+A3.stl', 'Bridge ver1- Daniel&Omer (1).stl', 'אתגר הגשר - הגדרה', 'Start', 'rotation to displacement']\n",
            "127.0.0.1 - - [12/Jul/2024 22:43:35] \"POST /_dash-update-component HTTP/1.1\" 200 -\n",
            "127.0.0.1 - - [12/Jul/2024 22:43:35] \"GET /_dash-component-suites/dash/dcc/async-dropdown.js HTTP/1.1\" 200 -\n",
            "127.0.0.1 - - [12/Jul/2024 22:43:35] \"POST /_dash-update-component HTTP/1.1\" 200 -\n",
            "[2024-07-12 22:43:41,743] ERROR in app: Exception on /_dash-update-component [POST]\n",
            "Traceback (most recent call last):\n",
            "  File \"/usr/local/lib/python3.10/dist-packages/flask/app.py\", line 2529, in wsgi_app\n",
            "    response = self.full_dispatch_request()\n",
            "  File \"/usr/local/lib/python3.10/dist-packages/flask/app.py\", line 1825, in full_dispatch_request\n",
            "    rv = self.handle_user_exception(e)\n",
            "  File \"/usr/local/lib/python3.10/dist-packages/flask/app.py\", line 1823, in full_dispatch_request\n",
            "    rv = self.dispatch_request()\n",
            "  File \"/usr/local/lib/python3.10/dist-packages/flask/app.py\", line 1799, in dispatch_request\n",
            "    return self.ensure_sync(self.view_functions[rule.endpoint])(**view_args)\n",
            "  File \"/usr/local/lib/python3.10/dist-packages/dash/dash.py\", line 1373, in dispatch\n",
            "    ctx.run(\n",
            "  File \"/usr/local/lib/python3.10/dist-packages/dash/_callback.py\", line 465, in add_context\n",
            "    output_value = _invoke_callback(func, *func_args, **func_kwargs)\n",
            "  File \"/usr/local/lib/python3.10/dist-packages/dash/_callback.py\", line 40, in _invoke_callback\n",
            "    return func(*args, **kwargs)  # %% callback invoked %%\n",
            "  File \"/content/Project/app.py\", line 201, in generate_graph\n",
            "    fig = px.bar(filtered_data, x='Document', y='Value')  # Adjust 'Value' with the appropriate column\n",
            "  File \"/usr/local/lib/python3.10/dist-packages/plotly/express/_chart_types.py\", line 373, in bar\n",
            "    return make_figure(\n",
            "  File \"/usr/local/lib/python3.10/dist-packages/plotly/express/_core.py\", line 2003, in make_figure\n",
            "    args = build_dataframe(args, constructor)\n",
            "  File \"/usr/local/lib/python3.10/dist-packages/plotly/express/_core.py\", line 1412, in build_dataframe\n",
            "    df_output, wide_id_vars = process_args_into_dataframe(\n",
            "  File \"/usr/local/lib/python3.10/dist-packages/plotly/express/_core.py\", line 1208, in process_args_into_dataframe\n",
            "    raise ValueError(err_msg)\n",
            "ValueError: Value of 'y' is not the name of a column in 'data_frame'. Expected one of ['Time', 'Document', 'Tab', 'User', 'Description'] but received: Value\n",
            "127.0.0.1 - - [12/Jul/2024 22:43:41] \"\u001b[35m\u001b[1mPOST /_dash-update-component HTTP/1.1\u001b[0m\" 500 -\n",
            "[2024-07-12 22:43:44,146] ERROR in app: Exception on /_dash-update-component [POST]\n",
            "Traceback (most recent call last):\n",
            "  File \"/usr/local/lib/python3.10/dist-packages/flask/app.py\", line 2529, in wsgi_app\n",
            "    response = self.full_dispatch_request()\n",
            "  File \"/usr/local/lib/python3.10/dist-packages/flask/app.py\", line 1825, in full_dispatch_request\n",
            "    rv = self.handle_user_exception(e)\n",
            "  File \"/usr/local/lib/python3.10/dist-packages/flask/app.py\", line 1823, in full_dispatch_request\n",
            "    rv = self.dispatch_request()\n",
            "  File \"/usr/local/lib/python3.10/dist-packages/flask/app.py\", line 1799, in dispatch_request\n",
            "    return self.ensure_sync(self.view_functions[rule.endpoint])(**view_args)\n",
            "  File \"/usr/local/lib/python3.10/dist-packages/dash/dash.py\", line 1373, in dispatch\n",
            "    ctx.run(\n",
            "  File \"/usr/local/lib/python3.10/dist-packages/dash/_callback.py\", line 465, in add_context\n",
            "    output_value = _invoke_callback(func, *func_args, **func_kwargs)\n",
            "  File \"/usr/local/lib/python3.10/dist-packages/dash/_callback.py\", line 40, in _invoke_callback\n",
            "    return func(*args, **kwargs)  # %% callback invoked %%\n",
            "  File \"/content/Project/app.py\", line 201, in generate_graph\n",
            "    fig = px.bar(filtered_data, x='Document', y='Value')  # Adjust 'Value' with the appropriate column\n",
            "  File \"/usr/local/lib/python3.10/dist-packages/plotly/express/_chart_types.py\", line 373, in bar\n",
            "    return make_figure(\n",
            "  File \"/usr/local/lib/python3.10/dist-packages/plotly/express/_core.py\", line 2003, in make_figure\n",
            "    args = build_dataframe(args, constructor)\n",
            "  File \"/usr/local/lib/python3.10/dist-packages/plotly/express/_core.py\", line 1412, in build_dataframe\n",
            "    df_output, wide_id_vars = process_args_into_dataframe(\n",
            "  File \"/usr/local/lib/python3.10/dist-packages/plotly/express/_core.py\", line 1208, in process_args_into_dataframe\n",
            "    raise ValueError(err_msg)\n",
            "ValueError: Value of 'y' is not the name of a column in 'data_frame'. Expected one of ['Time', 'Document', 'Tab', 'User', 'Description'] but received: Value\n",
            "127.0.0.1 - - [12/Jul/2024 22:43:44] \"\u001b[35m\u001b[1mPOST /_dash-update-component HTTP/1.1\u001b[0m\" 500 -\n",
            "127.0.0.1 - - [12/Jul/2024 22:45:41] \"POST /_dash-update-component HTTP/1.1\" 200 -\n",
            "127.0.0.1 - - [12/Jul/2024 22:45:41] \"POST /_dash-update-component HTTP/1.1\" 200 -\n",
            "127.0.0.1 - - [12/Jul/2024 22:45:42] \"POST /_dash-update-component HTTP/1.1\" 200 -\n",
            "127.0.0.1 - - [12/Jul/2024 22:45:46] \"POST /_dash-update-component HTTP/1.1\" 200 -\n",
            "127.0.0.1 - - [12/Jul/2024 22:45:48] \"POST /_dash-update-component HTTP/1.1\" 200 -\n",
            "^C\n",
            "^C\n"
          ]
        }
      ],
      "source": [
        "!python Project/app.py"
      ]
    },
    {
      "cell_type": "code",
      "source": [
        "from google.colab import drive\n",
        "drive.mount('/content/drive')"
      ],
      "metadata": {
        "id": "O95iropdJiDZ"
      },
      "execution_count": null,
      "outputs": []
    },
    {
      "cell_type": "markdown",
      "source": [
        "# New section"
      ],
      "metadata": {
        "id": "5rb4Kelig6N3"
      }
    },
    {
      "cell_type": "code",
      "execution_count": null,
      "metadata": {
        "id": "-U874WUYl1wL",
        "colab": {
          "base_uri": "https://localhost:8080/"
        },
        "outputId": "94d58568-05bc-4abd-d281-4c60f4fa204e"
      },
      "outputs": [
        {
          "output_type": "stream",
          "name": "stdout",
          "text": [
            "Collecting datetime\n",
            "  Downloading DateTime-5.5-py3-none-any.whl (52 kB)\n",
            "\u001b[2K     \u001b[90m━━━━━━━━━━━━━━━━━━━━━━━━━━━━━━━━━━━━━━━━\u001b[0m \u001b[32m52.6/52.6 kB\u001b[0m \u001b[31m1.5 MB/s\u001b[0m eta \u001b[36m0:00:00\u001b[0m\n",
            "\u001b[?25hCollecting zope.interface (from datetime)\n",
            "  Downloading zope.interface-6.4.post2-cp310-cp310-manylinux_2_5_x86_64.manylinux1_x86_64.manylinux_2_17_x86_64.manylinux2014_x86_64.whl (247 kB)\n",
            "\u001b[2K     \u001b[90m━━━━━━━━━━━━━━━━━━━━━━━━━━━━━━━━━━━━━━━━\u001b[0m \u001b[32m247.8/247.8 kB\u001b[0m \u001b[31m8.2 MB/s\u001b[0m eta \u001b[36m0:00:00\u001b[0m\n",
            "\u001b[?25hRequirement already satisfied: pytz in /usr/local/lib/python3.10/dist-packages (from datetime) (2023.4)\n",
            "Requirement already satisfied: setuptools in /usr/local/lib/python3.10/dist-packages (from zope.interface->datetime) (67.7.2)\n",
            "Installing collected packages: zope.interface, datetime\n",
            "Successfully installed datetime-5.5 zope.interface-6.4.post2\n"
          ]
        }
      ],
      "source": [
        "!pip install datetime"
      ]
    },
    {
      "cell_type": "code",
      "source": [],
      "metadata": {
        "id": "o8LrJr0gtiHK"
      },
      "execution_count": null,
      "outputs": []
    }
  ],
  "metadata": {
    "colab": {
      "provenance": [],
      "include_colab_link": true
    },
    "kernelspec": {
      "display_name": "Python 3",
      "name": "python3"
    },
    "language_info": {
      "name": "python"
    }
  },
  "nbformat": 4,
  "nbformat_minor": 0
}